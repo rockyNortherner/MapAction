{
 "cells": [
  {
   "attachments": {},
   "cell_type": "markdown",
   "metadata": {},
   "source": [
    "Groundwater Modelling\n",
    "\n",
    "Nathan Strathdee\n",
    "\n",
    "University of Sheffield, RPS Group\n",
    "\n",
    "12/01/2023"
   ]
  },
  {
   "attachments": {},
   "cell_type": "markdown",
   "metadata": {},
   "source": [
    "This Jupyter Notebook contains scripts for the analysis and visualisation of the impacts of groundwater abstraction on the water table, and the spread of pollution throughout, a perfectly confined aquifer.\n",
    "\n",
    "The notebook is intended as a demonstration of data science skills for an application for a MapAction volunteering position, and as a revision aid. As such, it is an on going project.\n",
    "\n",
    "These calculations could be applied in the rapid assessment of the impacts of groundwater abstraction, or the impact of a pollution event on a groundwater supply. In a humanitarian context, this might mean considering the likelihood that a well becomes contaminated after a nearby pollution event."
   ]
  },
  {
   "cell_type": "code",
   "execution_count": 63,
   "metadata": {},
   "outputs": [],
   "source": [
    "#Import required libraries\n",
    "import matplotlib.pyplot as plt\n",
    "from scipy.special import * #exp1 is an implementation of the artesian well function in Python\n",
    "import numpy as np\n",
    "from matplotlib.animation import FuncAnimation\n",
    "from matplotlib.animation import PillowWriter\n",
    "from scipy.integrate import quad"
   ]
  },
  {
   "attachments": {},
   "cell_type": "markdown",
   "metadata": {},
   "source": [
    "The following class acts a virtual representation of an aquifer, with defined functions for easy and efficient calculation and visualization of groundwater engineering activities."
   ]
  },
  {
   "cell_type": "code",
   "execution_count": 64,
   "metadata": {},
   "outputs": [],
   "source": [
    "class Aquifer:\n",
    "    def __init__(self, Name: str, type: str, Storativity: float, Transmissivity: float):\n",
    "        self.Name = Name\n",
    "        self.type = type\n",
    "        self.S = Storativity\n",
    "        self.T = Transmissivity # (metres^2/day)\n",
    "\n",
    "    def __str__(self):\n",
    "        return self.Name + \" is a \" + self.type + \" aquifer with a storativity of \" + str(self.S) + \" and a transmissivity of \" + str(self.T)\n",
    "\n",
    "    def calc_u(self, radius, time):\n",
    "        \"\"\"Calculate and return the dimensionless time parameter, u.\"\"\"\n",
    "        r = radius # metres\n",
    "        t = time # day\n",
    "        return r**2 * self.S / (4*self.T*t)\n",
    "\n",
    "    def theis_drawdown_timeList(self, radius:float, time:list[float], pumpRate:list[float]):\n",
    "        \"\"\"\n",
    "        Calculate and return the drawdown (s_theis) for a single pumping well using the Theis eqution, which is suitable for perfectly confined aquifers.\n",
    "        \n",
    "        The Theis equation is: s(r,t) = Q * W(u) / (4.pi.T), where W(u) is the Well function for u = Sr^2 / (4Tt).\n",
    "        \"\"\"\n",
    "\n",
    "        r = radius # distance from the pumping well\n",
    "        t = time # pumping time day\n",
    "        Q = pumpRate # metres^3/day\n",
    "\n",
    "        u = self.calc_u(r, t)\n",
    "        s_theis = Q*exp1(u)/(4*np.pi*self.T)\n",
    "\n",
    "        return s_theis\n",
    "\n",
    "    def theis_drawdown_radiusList(self, radius:list[float], time:float, pumpRate:float):\n",
    "        \"\"\"\n",
    "        Calculate and return the drawdown (s_theis) for a single pumping well using the Theis eqution, which is suitable for perfectly confined aquifers.\n",
    "        \n",
    "        The Theis equation is: s(r,t) = Q * W(u) / (4.pi.T), where W(u) is the Well function for u = Sr^2 / (4Tt).\n",
    "        \"\"\"\n",
    "\n",
    "        r = radius # distance from the pumping well\n",
    "        t = time # pumping time day\n",
    "        Q = pumpRate # metres^3/day\n",
    "\n",
    "        if time == 0: s_theis = 0\n",
    "        else: \n",
    "            u = self.calc_u(r, t)\n",
    "            s_theis = Q*exp1(u)/(4*np.pi*self.T)\n",
    "\n",
    "        return s_theis\n",
    "\n",
    "\n",
    "    def fitDataJacobs(self,s:list[float],t:list[float]):\n",
    "        #fit s, ln(t)\n",
    "        lnt = np.log(t)\n",
    "        coeffs = np.polyfit(np.log(t),s,1)\n",
    "        # plot the data and the fitted straight line\n",
    "        plt.plot(lnt, s, ls='', marker='o')\n",
    "        fit_line = np.poly1d(coeffs)(lnt)\n",
    "        plt.plot(lnt, fit_line)\n",
    "        plt.xlabel(r'$t\\;/\\mathrm{ln(days)}$')\n",
    "        plt.ylabel(r'$s\\;/\\mathrm{m}$')\n",
    "        plt.title('Linear Fitting of Drawdown Data')\n",
    "        plt.show()\n",
    "        # Output the fitted coefficients and report the rms residual\n",
    "        print('m = {}, c = {}'.format(*coeffs))\n",
    "        rms_residual = np.sqrt(np.sum((fit_line - s)**2))\n",
    "        print('rms residual =', rms_residual)\n",
    "        return coeffs\n",
    "\n",
    "    def get_S_and_T_Jacobs(self, m, c, Q, r):\n",
    "        Tfit = Q / (4 * np.pi * m)\n",
    "        Sfit = 4 * Tfit * np.exp(-(c/m + np.euler_gamma))/ r**2\n",
    "        return Sfit, Tfit\n",
    "\n",
    "    def checkJacobs(self,timeLowerBound:float,timeUpperBound:float,radius:float):\n",
    "        u1 = self.calc_u(radius,timeLowerBound)\n",
    "        u2 = self.calc_u(radius,timeUpperBound)\n",
    "        if u1 < 0.01 and u2 < 0.01:\n",
    "            return(\"The Jacobs approximation may be applied\")\n",
    "        else:\n",
    "            return(\"The Jacobs approximation should not be applied\")\n",
    "\n",
    "    def jacobHantush(self,b_aquitard:float,K_aquitard:float,pumpRate:float,radius:float,time:float):\n",
    "        self.radius = radius\n",
    "        u = self.calc_u(radius,time)\n",
    "        self.B = self.calc_B(b_aquitard,K_aquitard)\n",
    "        W_leaky = self.calc_WLeaky(u)\n",
    "        s_jacobHantush = pumpRate*W_leaky/(4*np.pi*self.T)\n",
    "        return s_jacobHantush\n",
    "\n",
    "    def calc_B(self,b_aquitard: float, K_aquitard: float):\n",
    "        return(np.sqrt(self.T*b_aquitard/K_aquitard))\n",
    "\n",
    "    def calc_WLeaky(self,u:float):\n",
    "        W_leaky = quad(self.exponentialW,u,np.inf)[0]\n",
    "        return W_leaky\n",
    "    \n",
    "    def exponentialW(self,y):\n",
    "        x = np.exp(-y - self.radius**2/(4*self.B**2*y))/y\n",
    "        return x"
   ]
  },
  {
   "attachments": {},
   "cell_type": "markdown",
   "metadata": {},
   "source": [
    "The following codeblock allows the definion of an aquifers.\n",
    "\n",
    "The following properties are used to define an aquifer:\n",
    "\n",
    "    1) Storativity/Aquifer Storage Coefficient (S, unitless) - the volume of water released per unit decrease in the hydraulic head/water table (H), per unit area\n",
    "\n",
    "    2) Transmissivity (T, m2/day) - a measure of the transport of water per unit time, equal to the depth of the aquifer multiplied by the hydraulic conductivity\n",
    "\n",
    "Other important terms that will be used throughout this notebook include:\n",
    "\n",
    "    1) Drawdown - the change in hydraulic head (a measure of the water pressure above a datum)\n",
    "\n",
    "Further information can be found at: https://www.g-mwater.com.au/downloads/gmw/Groundwater/29012016-_2977263-v9-GROUNDWATER_TERMS_AND_DEFINITIONS_GLOSSARY_FOR_USERS.pdf"
   ]
  },
  {
   "cell_type": "code",
   "execution_count": 65,
   "metadata": {},
   "outputs": [
    {
     "name": "stdout",
     "output_type": "stream",
     "text": [
      "Aquifer_1 is a confined aquifer with a storativity of 0.003 and a transmissivity of 500\n"
     ]
    }
   ],
   "source": [
    "#Define an aquifer\n",
    "aquiferType: str = \"confined\"#Enter either \"confined\" or \"partially confined\"\n",
    "aquiferStorativity: float = 0.003 #If unknown, enter 'Unknown'\n",
    "aquiferTransmissivity: float = 500 #If unknown, enter 'Unknown'\n",
    "\n",
    "\n",
    "aquifer = Aquifer(\"Aquifer_1\",aquiferType,aquiferStorativity,aquiferTransmissivity)\n",
    "print(aquifer)"
   ]
  },
  {
   "attachments": {},
   "cell_type": "markdown",
   "metadata": {},
   "source": [
    "Groundwater abstraction or injection can cause changes in the water table of an aquifer. These impacts can be modelled using Analytical solutions to the Groundwater Flow Equations.\n",
    "\n",
    "The solutions considered here assumed that:\n",
    "\n",
    "    1) the aquifer is horizontally confined\n",
    " \n",
    "    2) the water table is initally horizontal\n",
    "\n",
    "    3) the aquifer is homogenous and isotropic (constant hydraulic conductivity)\n",
    "\n",
    "    4) groundwater flow is horizontal\n",
    "\n",
    "    5) Darcy's law is valid\n",
    "\n",
    "    6) groundwater has constant density and viscosity\n",
    "\n",
    "    7) pumping and monitoring wells are fully screened\n",
    "\n",
    "    8) diameter of pumping wells is infintesimal\n",
    "\n",
    "In steady-state, Theim's equation may be applied:\n",
    "$$\n",
    "s(r) = H_0 - H(r) = -\\frac{Q}{2\\pi T}ln(\\frac{r}{R_{0}})\n",
    "$$\n",
    "In transient-state, Theis's equation may be applied:\n",
    "$$\n",
    "s(r, t) = H_0 - H(r,t) = \\frac{Q}{4\\pi T}W(u), \\quad \\mathrm{where}\\quad u = \\frac{r^2S}{4Tt}.\n",
    "$$\n",
    "Here $H_0$ is the hydraulic head in the absence of the well, $S$ is the aquifer storage coefficient (volume of water released per unit decrease in $H$ per unit area) and $T$ is the transmissivity (a measure of how much water is transported horizontally per unit time). The _Well Function_, $W(u)$ is simply the exponential integral, $E_1(u).$\n",
    "\n",
    "In practice, it is often more convenient to use an approximation to the exponential integral: $W(u) \\approx -\\gamma - \\ln u$ where $\\gamma=0.577215664\\cdots$ is the Euler-Mascheroni constant. This results in an expression for $s(r,t)$ known as the Jacob equation:\n",
    "$$\n",
    "s(r,t) = -\\frac{Q}{4\\pi T}\\left(\\gamma + \\ln u \\right).\n",
    "$$"
   ]
  },
  {
   "cell_type": "code",
   "execution_count": 66,
   "metadata": {},
   "outputs": [
    {
     "data": {
      "image/png": "[encoded data removed]",
      "text/plain": [
       "<Figure size 640x480 with 1 Axes>"
      ]
     },
     "metadata": {},
     "output_type": "display_data"
    }
   ],
   "source": [
    "#visualization of drawdown against time for a flexible number of wells at a single point, using the principle of superposition\n",
    "numberOfPumps: int = 2\n",
    "pumpRate: list[float] = [2000,2000] #pumpring rate of each well m3/day\n",
    "radius: list[float] = [10,10] #distance of your position from each well m\n",
    "upperBound: float = 100 #time to plot until\n",
    "timeStep: float = 5 #time step to plot\n",
    "\n",
    "#times to plot\n",
    "t = np.array(range(1,upperBound,timeStep))\n",
    "\n",
    "k = 0\n",
    "total_s = np.array([])\n",
    "while k < numberOfPumps:\n",
    "    s = np.array(aquifer.theis_drawdown_timeList(radius[k], t, pumpRate[k]))\n",
    "    if k == 0: total_s = s\n",
    "    else: total_s += s\n",
    "    k += 1\n",
    "\n",
    "# Plot the data\n",
    "plt.plot(t, total_s, 'x')\n",
    "plt.xlabel(r'$t\\;/\\mathrm{days}$')\n",
    "plt.ylabel(r'$s\\;/\\mathrm{m}$')\n",
    "plt.title(\"Drawdown in a Confined Aquifer\")\n",
    "plt.show()\n"
   ]
  },
  {
   "cell_type": "markdown",
   "metadata": {},
   "source": [
    "#a one dimensional animation of how drawdown varies over time\n",
    "pump: float = 2000 #pump rate\n",
    "\n",
    "#initializing a figure in which the graph will be plotted\n",
    "fig = plt.figure()\n",
    "\n",
    "# marking the x-axis and y-axis\n",
    "axis = plt.axes(xlim =(0, 100), ylim =(0, -6))\n",
    "axis.invert_yaxis()\n",
    "\n",
    "plt.title(\"Aquifer Drawdown around a Pumping Well\")\n",
    "plt.xlabel(\"Distance from Pump Well (m)\")\n",
    "plt.ylabel(\"Drawdowm (m)\")\n",
    "\n",
    "# initializing a line variable\n",
    "line, = axis.plot([], [], lw = 3)\n",
    "\n",
    "# lists to store x and y axis points \n",
    "r_data, s_data = [], [] \n",
    "\n",
    "# data which the line will contain (x, y)\n",
    "def init():\n",
    "    line.set_data([], [])\n",
    "    return line,\n",
    "\n",
    "def animate(i):\n",
    "    radius_data = []\n",
    "    drawdown_data = []\n",
    "    for r in range(1,1000,1):\n",
    "        radius_data.append(r)\n",
    "        if i < 500:\n",
    "            drawdown_data.append(0 - aquifer.theis_drawdown_radiusList(r,0.1*i,pump))\n",
    "        else: \n",
    "            drawdown_data.append(0 - aquifer.theis_drawdown_radiusList(r,0.1*i,pump) - aquifer.theis_drawdown_radiusList(r,0.1*i-50,pump))\n",
    "    line.set_data(radius_data, drawdown_data)\n",
    "    return line,\n",
    "\n",
    "anim = FuncAnimation(fig, animate, init_func = init,frames = 1000, interval = 1, blit = True)\n",
    "\n",
    "anim.save('1DAquiferAnimation.gif',writer = PillowWriter(fps = 48))\n"
   ]
  },
  {
   "attachments": {},
   "cell_type": "markdown",
   "metadata": {},
   "source": [
    "In a professional context, it is more common that transmissivity and storativity of an aquifer are to be found from data collected during pumping. This can be done using the Jacobs approximation, or directly from the Theis equation."
   ]
  },
  {
   "cell_type": "code",
   "execution_count": 67,
   "metadata": {},
   "outputs": [
    {
     "data": {
      "image/png": "[encoded data removed]",
      "text/plain": [
       "<Figure size 640x480 with 1 Axes>"
      ]
     },
     "metadata": {},
     "output_type": "display_data"
    },
    {
     "name": "stdout",
     "output_type": "stream",
     "text": [
      "m = 0.636604131113601, c = 5.2379538912650165\n",
      "rms residual = 4.998663274604081e-05\n"
     ]
    }
   ],
   "source": [
    "\"\"\"Use of the Jacobs equation to estimate the properties of an aquifer\"\"\"\n",
    "\n",
    "\"\"\"for the purposes of this demonstration, a new aquifer is defined and the results of the previous code block are used\n",
    "to provide drawdown and time data\"\"\"\n",
    "\n",
    "coeffs = aquifer.fitDataJacobs(total_s,t)\n",
    "\n"
   ]
  },
  {
   "cell_type": "code",
   "execution_count": 68,
   "metadata": {},
   "outputs": [
    {
     "name": "stdout",
     "output_type": "stream",
     "text": [
      "The Storativity of the aquifer is 0.002999169959516858 and the Tranmissivity of the aquifer is 500.0122849139802 .\n"
     ]
    }
   ],
   "source": [
    "\"\"\"'m' and 'c', can then be used to find the transmissivity and the storativity of the aquifer\"\"\"\n",
    "m,c = coeffs\n",
    "Q: float = 4000 #pumpRate\n",
    "r: float = 10 #radius\n",
    "S,T = aquifer.get_S_and_T_Jacobs(m,c,Q,r)\n",
    "print(\"The Storativity of the aquifer is \" + str(S) + \" and the Tranmissivity of the aquifer is \" + str(T) + \" .\")"
   ]
  },
  {
   "attachments": {},
   "cell_type": "markdown",
   "metadata": {},
   "source": [
    "Broadly, the Jacobs equation is only considered to be an accurate approximation if the dimensionless time constant, u, is less than 0.01. If this is not the case, the Theis equation must be used."
   ]
  },
  {
   "cell_type": "code",
   "execution_count": 69,
   "metadata": {},
   "outputs": [
    {
     "data": {
      "text/plain": [
       "'The Jacobs approximation may be applied'"
      ]
     },
     "execution_count": 69,
     "metadata": {},
     "output_type": "execute_result"
    }
   ],
   "source": [
    "#Check that the dimensionless time constant is suitably small\n",
    "aquifer = Aquifer(\"demonstrationAquifer\",\"confined\",S,T)\n",
    "aquifer.checkJacobs(1,100,10)"
   ]
  },
  {
   "attachments": {},
   "cell_type": "markdown",
   "metadata": {},
   "source": [
    "The next codeblocks will consider the case of a partially confined (leaky) aquifer. There are a number of additional assumptions in this scenario:\n",
    "\n",
    "    1) The confined aquifer is bounded on top by an aquitard, in turn overlain by an unconfined aquifer of infinite capacity.\n",
    "    2) Tje water table is initially horizontal and remains so during pumping.\n",
    "    3) Groundwater flow in the aquitard is vertical\n",
    "    4) Groundwater flow in the confined aquifer is horizontal\n",
    "    5) The confined aquifer is compressible\n",
    "    6) The aquitard is incompressible \n",
    "\n",
    "There is a flow of water from the unconfined aquifer, through the partially permeable aquitard and into the confined aquifer. This is represented as source.\n",
    "\n",
    "This scenario can be modelled using the Hantush-Jacob Equation:\n",
    "$$\n",
    "s(r, t) = H_0 - H(r,t) = \\frac{Q}{4\\pi T}W(u,\\frac{r}{B}), \\quad \\mathrm{where}\\quad u = \\frac{r^2S}{4Tt} \\quad \\mathrm{and}\\quad B = \\sqrt{T\\frac{b'}{K'}}\\ (leakage factor)\n",
    "$$\n",
    "where $b'$ and $K'$ are the thickness and hydraulic conductivity of the aquitard, respectively.\n",
    "\n",
    "$W(u,\\frac{r}{B})$ is known as the leaky artesian well function."
   ]
  },
  {
   "cell_type": "code",
   "execution_count": 70,
   "metadata": {},
   "outputs": [
    {
     "name": "stdout",
     "output_type": "stream",
     "text": [
      "0.2345079374925877\n"
     ]
    }
   ],
   "source": [
    "#Calculate drawdown using the Hantush Jacob Equation\n",
    "b_aquitard: float = 5 #thickness of the aquitard\n",
    "K_aquitard: float = 0.1 #hydraulic conductivity of the aquitard\n",
    "\n",
    "pumpRate: float = 1000 #pump rate at pumping well (m3/day)\n",
    "radius: float = 100 #distance from the pumping well (metres)\n",
    "time: float = 100 #time of pumping (days)\n",
    "\n",
    "drawdown = aquifer.jacobHantush(b_aquitard,K_aquitard,pumpRate,radius,time)\n",
    "print(drawdown)\n"
   ]
  }
 ],
 "metadata": {
  "kernelspec": {
   "display_name": "MapAction",
   "language": "python",
   "name": "mapaction"
  },
  "language_info": {
   "codemirror_mode": {
    "name": "ipython",
    "version": 3
   },
   "file_extension": ".py",
   "mimetype": "text/x-python",
   "name": "python",
   "nbconvert_exporter": "python",
   "pygments_lexer": "ipython3",
   "version": "3.11.0"
  },
  "orig_nbformat": 4,
  "vscode": {
   "interpreter": {
    "hash": "0c77958842f8c7463054341ad80ae408b1d79151945ef97a6977eb7087ccb8a1"
   }
  }
 },
 "nbformat": 4,
 "nbformat_minor": 2
}
