{
 "cells": [
  {
   "attachments": {},
   "cell_type": "markdown",
   "metadata": {},
   "source": [
    "This Jupyter Notebook contains a variety of scripts that can be used to analyse and visualise the impacts of groundwater abstraction on the water table, and the spread of pollution throughout an aquifer.\n",
    "\n",
    "The notebook is intended as a demonstration of data science skills for an application for a MapAction volunteering position, and as a revision aid. As such, it is an on going project."
   ]
  },
  {
   "cell_type": "code",
   "execution_count": null,
   "metadata": {},
   "outputs": [],
   "source": []
  }
 ],
 "metadata": {
  "kernelspec": {
   "display_name": "MapAction",
   "language": "python",
   "name": "mapaction"
  },
  "language_info": {
   "name": "python",
   "version": "3.11.0 (main, Oct 24 2022, 18:26:48) [MSC v.1933 64 bit (AMD64)]"
  },
  "orig_nbformat": 4
 },
 "nbformat": 4,
 "nbformat_minor": 2
}
